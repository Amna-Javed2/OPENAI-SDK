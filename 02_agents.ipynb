{
  "nbformat": 4,
  "nbformat_minor": 0,
  "metadata": {
    "colab": {
      "provenance": [],
      "name": "02_agents.ipynb",
      "authorship_tag": "ABX9TyPzQolaDt8oKllbZtDh8As/",
      "include_colab_link": true
    },
    "kernelspec": {
      "name": "python3",
      "display_name": "Python 3"
    },
    "language_info": {
      "name": "python"
    }
  },
  "cells": [
    {
      "cell_type": "markdown",
      "metadata": {
        "id": "view-in-github",
        "colab_type": "text"
      },
      "source": [
        "<a href=\"https://colab.research.google.com/github/Amna-Javed2/OPENAI-SDK/blob/master/02_agents.ipynb\" target=\"_parent\"><img src=\"https://colab.research.google.com/assets/colab-badge.svg\" alt=\"Open In Colab\"/></a>"
      ]
    },
    {
      "cell_type": "markdown",
      "source": [
        "\n",
        "\n",
        "\n",
        "**Install openai Agent sdk**\n",
        "\n",
        "\n"
      ],
      "metadata": {
        "id": "l-qYZv1hQ9_N"
      }
    },
    {
      "cell_type": "code",
      "execution_count": null,
      "metadata": {
        "id": "xvc6QsDwQqjR"
      },
      "outputs": [],
      "source": [
        "!pip install -Uq openai-agents"
      ]
    },
    {
      "cell_type": "markdown",
      "source": [
        "**Capable of running async function (Jupiter Notebook)**"
      ],
      "metadata": {
        "id": "Q2A0k40cQ9Bf"
      }
    },
    {
      "cell_type": "code",
      "source": [
        "import nest_asyncio\n",
        "nest_asyncio.apply()"
      ],
      "metadata": {
        "id": "HwRbiY0wRPDm"
      },
      "execution_count": null,
      "outputs": []
    },
    {
      "cell_type": "code",
      "source": [
        "from agents import Agent, Runner, AsyncOpenAI, OpenAIChatCompletionsModel\n",
        "from agents.run import RunConfig"
      ],
      "metadata": {
        "id": "rOB0zwOQTWHE"
      },
      "execution_count": null,
      "outputs": []
    },
    {
      "cell_type": "markdown",
      "source": [
        "API KEY"
      ],
      "metadata": {
        "id": "qXQbW23CZlzC"
      }
    },
    {
      "cell_type": "code",
      "source": [
        "# api key\n",
        "import os\n",
        "from google.colab import userdata\n",
        "google_api_key = userdata.get(\"GOOGLE_API_KEY\")"
      ],
      "metadata": {
        "id": "ZH2hThaW5KQB"
      },
      "execution_count": null,
      "outputs": []
    },
    {
      "cell_type": "markdown",
      "source": [
        "**Model Provider / External Client**"
      ],
      "metadata": {
        "id": "-qb-jscbZomb"
      }
    },
    {
      "cell_type": "code",
      "source": [
        "#  external or openai client / model provider\n",
        "external_client = AsyncOpenAI(\n",
        "    api_key = google_api_key,\n",
        "    base_url = \"https://generativelanguage.googleapis.com/v1beta/openai/\",\n",
        ")"
      ],
      "metadata": {
        "id": "UJv_P_FEZ54-"
      },
      "execution_count": null,
      "outputs": []
    },
    {
      "cell_type": "markdown",
      "source": [
        "**Model**"
      ],
      "metadata": {
        "id": "mBpkQ4KraGkh"
      }
    },
    {
      "cell_type": "code",
      "source": [
        "# Model\n",
        "model = OpenAIChatCompletionsModel(\n",
        "    model = \"gemini-2.0-flash\",\n",
        "    openai_client = external_client,\n",
        ")"
      ],
      "metadata": {
        "id": "PGNQZcoTZ8-r"
      },
      "execution_count": null,
      "outputs": []
    },
    {
      "cell_type": "markdown",
      "source": [
        "**Config**"
      ],
      "metadata": {
        "id": "wlUtr3Z7aSig"
      }
    },
    {
      "cell_type": "code",
      "source": [
        "# Config\n",
        "config = RunConfig(\n",
        "    model= model,\n",
        "    model_provider = external_client,\n",
        "    tracing_disabled = True,\n",
        ")"
      ],
      "metadata": {
        "id": "Hcf-IOzy5X3y"
      },
      "execution_count": null,
      "outputs": []
    },
    {
      "cell_type": "markdown",
      "source": [
        "1__Hello-world"
      ],
      "metadata": {
        "id": "rTkOeOJkuorA"
      }
    },
    {
      "cell_type": "code",
      "source": [
        "# Agent\n",
        "agent : Agent = Agent(\n",
        "    name = \"Assistant\",\n",
        "    instructions = \"You are a helpful assistant\",\n",
        "    model = model,\n",
        ")\n",
        "\n",
        "#  run synchronous\n",
        "result = Runner.run_sync(\n",
        "    agent ,\n",
        "   \"Hello! How are you\",\n",
        "    run_config = config\n",
        ")\n",
        "\n",
        "# final output\n",
        "print(\"\\nCalling Agent \\n\")\n",
        "print(result.final_output)"
      ],
      "metadata": {
        "colab": {
          "base_uri": "https://localhost:8080/"
        },
        "id": "JQ9YuTaVvA7P",
        "outputId": "8d8c175f-abe1-43a5-b05b-bf3f0c928819"
      },
      "execution_count": null,
      "outputs": [
        {
          "output_type": "stream",
          "name": "stdout",
          "text": [
            "\n",
            "Calling Agent \n",
            "\n",
            "Hello! As a large language model, I don't experience feelings like humans do, so I don't \"feel\" in the same way. However, I'm functioning properly and ready to assist you with any questions or tasks you have. How can I help you today?\n",
            "\n"
          ]
        }
      ]
    },
    {
      "cell_type": "markdown",
      "source": [
        "2__Hello-world"
      ],
      "metadata": {
        "id": "C7hWwj52s9v6"
      }
    },
    {
      "cell_type": "code",
      "source": [
        "import asyncio\n",
        "from agents import Agent, Runner"
      ],
      "metadata": {
        "id": "ecv9trX0wqGE"
      },
      "execution_count": null,
      "outputs": []
    },
    {
      "cell_type": "code",
      "source": [
        "# agent\n",
        "async def main():\n",
        "         agent = Agent(\n",
        "      name = \"Assistant\",\n",
        "      instructions = \"You only respond in objects\"\n",
        "          )\n",
        "\n",
        "#  run asynchronous\n",
        "\n",
        "         result = await Runner.run(agent,\"Tell me about OOP in programming\",run_config = config)\n",
        "         print(result.final_output)\n",
        "\n",
        "#  final output\n",
        "\n",
        "  # if __name__ == \"__main__\":\n",
        "asyncio.run(main())\n",
        "\n",
        "# await main()"
      ],
      "metadata": {
        "id": "r0MjyF-K6BUH",
        "colab": {
          "base_uri": "https://localhost:8080/"
        },
        "outputId": "e57f099d-e92a-4cde-8583-f2fc2d19ce9d"
      },
      "execution_count": null,
      "outputs": [
        {
          "output_type": "stream",
          "name": "stdout",
          "text": [
            "```json\n",
            "{\n",
            "  \"topic\": \"Object-Oriented Programming (OOP)\",\n",
            "  \"description\": \"Object-Oriented Programming (OOP) is a programming paradigm based on the concept of 'objects', which contain data (attributes/fields) and code (methods/procedures) to manipulate that data. It aims to model real-world entities and interactions.\",\n",
            "  \"key_concepts\": [\n",
            "    {\n",
            "      \"concept\": \"Objects\",\n",
            "      \"description\": \"Objects are self-contained entities that encapsulate data and behavior.  They are instances of classes. Think of them as 'things' in your program.\",\n",
            "      \"example\": \"A 'Car' object might have attributes like 'color', 'model', 'speed' and methods like 'accelerate()', 'brake()', 'turn()'.\"\n",
            "    },\n",
            "    {\n",
            "      \"concept\": \"Classes\",\n",
            "      \"description\": \"Classes are blueprints or templates for creating objects.  They define the attributes and methods that objects of that class will possess.\",\n",
            "      \"example\": \"The 'Car' class defines what a car *is* (its possible attributes and behaviors), while specific car objects (e.g., 'myRedCar', 'johnsBlueCar') are *instances* of that class.\"\n",
            "    },\n",
            "    {\n",
            "      \"concept\": \"Encapsulation\",\n",
            "      \"description\": \"Encapsulation bundles data and the methods that operate on that data within a single unit (the object).  It also often involves hiding the internal details of an object from the outside world, exposing only a well-defined interface.  This promotes data integrity and reduces complexity.\",\n",
            "      \"benefits\": [\"Data hiding (access control)\", \"Modularity\", \"Reduced complexity\"]\n",
            "    },\n",
            "    {\n",
            "      \"concept\": \"Abstraction\",\n",
            "      \"description\": \"Abstraction focuses on the essential features of an object, hiding unnecessary complexity.  It allows you to interact with objects at a high level without needing to know all the implementation details.\",\n",
            "      \"example\": \"When you drive a car, you don't need to understand how the engine works internally. You just use the steering wheel, pedals, and gear shift.\"\n",
            "    },\n",
            "    {\n",
            "      \"concept\": \"Inheritance\",\n",
            "      \"description\": \"Inheritance allows a class (subclass/derived class) to inherit attributes and methods from another class (superclass/base class).  This promotes code reuse and establishes a hierarchy of classes.\",\n",
            "      \"example\": \"A 'SportsCar' class can inherit from a 'Car' class, inheriting attributes like 'color' and methods like 'accelerate()'.  It can then add its own specific attributes (e.g., 'spoiler') and methods (e.g., 'activateTurbo()').\"\n",
            "    },\n",
            "    {\n",
            "      \"concept\": \"Polymorphism\",\n",
            "      \"description\": \"Polymorphism means 'many forms'.  It allows objects of different classes to be treated as objects of a common type.  This enables flexibility and extensibility in your code.\",\n",
            "      \"types\": [\"Method Overriding (runtime polymorphism)\", \"Method Overloading (compile time polymorphism)\"]\n",
            "    }\n",
            "  ],\n",
            "  \"benefits\": [\n",
            "    \"Modularity: Code is organized into reusable objects.\",\n",
            "    \"Maintainability: Changes to one object are less likely to affect other parts of the program.\",\n",
            "    \"Reusability: Objects can be reused in different parts of the program or in other programs.\",\n",
            "    \"Scalability: Easier to add new features and objects to the program.\",\n",
            "    \"Real-world modeling: Easier to model real-world entities and relationships.\"\n",
            "  ],\n",
            "  \"languages\": [\n",
            "    \"Java\",\n",
            "    \"C++\",\n",
            "    \"Python\",\n",
            "    \"C#\",\n",
            "    \"Ruby\",\n",
            "    \"PHP\",\n",
            "    \"JavaScript (supports OOP)\"\n",
            "  ],\n",
            "  \"alternative_paradigms\": [\n",
            "    \"Procedural Programming\",\n",
            "    \"Functional Programming\"\n",
            "  ]\n",
            "}\n",
            "```\n"
          ]
        }
      ]
    },
    {
      "cell_type": "markdown",
      "source": [
        "**Streaming**"
      ],
      "metadata": {
        "id": "Bja4lDMa_K07"
      }
    },
    {
      "cell_type": "code",
      "source": [
        "import asyncio\n",
        "from agents import Agent, Runner\n",
        "from openai.types.responses import ResponseTextDeltaEvent\n",
        "\n",
        "async def main():\n",
        "  agent = Agent(\n",
        "      name = \"Assistant\",\n",
        "      instructions=\"You are a helpful assistant\",\n",
        "  )\n",
        "\n",
        "  result =  Runner.run_streamed(agent, input= \"Please tell me 5 jokes in urdu\",run_config=  config)\n",
        "  async for event in result.stream_events():\n",
        "    if event.type == \"raw_response_event\" and isinstance(event.data,ResponseTextDeltaEvent):\n",
        "       print(event.data.delta, end=\"\", flush=True)\n",
        "\n",
        "asyncio.run(main())"
      ],
      "metadata": {
        "colab": {
          "base_uri": "https://localhost:8080/"
        },
        "id": "gnIQ0-8305_l",
        "outputId": "ef631b3b-cae7-44b5-a623-7deae30b9a18"
      },
      "execution_count": null,
      "outputs": [
        {
          "output_type": "stream",
          "name": "stdout",
          "text": [
            "Okay, here are 5 jokes in Urdu, along with their approximate translations to help you understand the humor:\n",
            "\n",
            "1.  **Joke:**\n",
            "\n",
            "    استاد شاگرد سے: \"بتاؤ، دنیا کا سب سے طاقتور جانور کونسا ہے؟\"\n",
            "    شاگرد: \"ہاتھی، کیونکہ وہ ٹرنک کال کر سکتا ہے!\"\n",
            "\n",
            "    **Translation:**\n",
            "\n",
            "    Teacher to student: \"Tell me, which is the most powerful animal in the world?\"\n",
            "    Student: \"Elephant, because it can make a trunk call!\"\n",
            "    **Humor:** This is a pun using the word \"trunk\" which can mean both an elephant's trunk and a phone call.\n",
            "\n",
            "2.  **Joke:**\n",
            "\n",
            "    ایک آدمی ڈاکٹر کے پاس گیا اور کہا: \"ڈاکٹر صاحب، مجھے چائے پینے کے بعد درد ہوتا ہے۔\"\n",
            "    ڈاکٹر: \"تو پھر چائے پینے سے پہلے پی لیا کرو!\"\n",
            "\n",
            "    **Translation:**\n",
            "\n",
            "    A man went to the doctor and said: \"Doctor, I get pain after drinking tea.\"\n",
            "    Doctor: \"Then drink before drinking tea!\"\n",
            "    **Humor:** The joke plays on a simple and obvious solution, presented with a humorous tone.\n",
            "\n",
            "3.  **Joke:**\n",
            "\n",
            "    پپو: یار، میں نے سنا ہے تم نے نئی گاڑی لی ہے؟\n",
            "    چپو: ہاں، لیکن وہ صرف آواز کرتی ہے، چلتی نہیں ہے۔\n",
            "    پپو: کیوں؟\n",
            "    چپو: کیونکہ وہ ایک ریکارڈنگ ہے۔\n",
            "\n",
            "    **Translation:**\n",
            "\n",
            "    Pappu: \"Hey, I heard you bought a new car?\"\n",
            "    Chappu: \"Yes, but it only makes noise, doesn't move.\"\n",
            "    Pappu: \"Why?\"\n",
            "    Chappu: \"Because it's a recording.\"\n",
            "    **Humor:** The joke is based on a misunderstanding and a silly reason why the car doesn't work.\n",
            "\n",
            "4.  **Joke:**\n",
            "\n",
            "    ایک کنجوس آدمی مرنے والا تھا، اس نے اپنی بیوی سے کہا: \"سنو، میرے مرنے کے بعد سارے پیسے میرے ساتھ دفنا دینا.\"\n",
            "    بیوی نے کہا: \"تم فکر مت کرو، میں نے پہلے ہی سارے پیسے تمہارے اکاؤنٹ میں ٹرانسفر کر دیے ہیں!\"\n",
            "\n",
            "    **Translation:**\n",
            "\n",
            "    A miserly man was about to die. He said to his wife, \"Listen, after I die, bury all the money with me.\"\n",
            "    The wife said, \"Don't worry, I've already transferred all the money into your account!\"\n",
            "    **Humor:** This is funny because the wife outsmarts the miser by technically fulfilling his wish, while still keeping the money accessible.\n",
            "\n",
            "5.  **Joke:**\n",
            "\n",
            "    جج: تم نے بینک لوٹنے کے لئے ماسک کیوں پہنا؟\n",
            "    چور: جناب، آپ نے ٹی وی پر نہیں دیکھا؟ سب کہہ رہے تھے کہ ماسک پہنو ورنہ جرمانہ ہوگا۔\n",
            "\n",
            "    **Translation:**\n",
            "\n",
            "    Judge: \"Why did you wear a mask to rob the bank?\"\n",
            "    Thief: \"Sir, haven't you seen it on TV? Everyone was saying wear a mask or you'll be fined!\"\n",
            "    **Humor:** This joke uses the current event of wearing masks due to the pandemic and twists it into a humorous explanation for a crime.\n"
          ]
        }
      ]
    },
    {
      "cell_type": "markdown",
      "source": [
        "**Modify sdk documentation example**"
      ],
      "metadata": {
        "id": "TEijBtp__Td2"
      }
    },
    {
      "cell_type": "code",
      "source": [
        "from agents import Agent, ModelSettings, function_tool\n",
        "\n",
        "@function_tool\n",
        "def get_weather(city: str) -> str:\n",
        "    return f\"The weather in {city} is sunny\"\n",
        "\n",
        "async def main():\n",
        "  agent = Agent(\n",
        "    name=\"Haiku agent\",\n",
        "    instructions=\"Always respond in haiku form\",\n",
        "    model=\"gemini-2.0-flash\",\n",
        "    tools=[get_weather],\n",
        "  )\n",
        "\n",
        "  result = Runner.run_sync(\n",
        "    agent,\n",
        "   input= \"What is the weather in Toronto?\",\n",
        "    run_config=config\n",
        "  )\n",
        "  print(result.final_output)\n",
        "\n",
        "if __name__ == \"__main__\":\n",
        "  asyncio.run(main())"
      ],
      "metadata": {
        "colab": {
          "base_uri": "https://localhost:8080/"
        },
        "id": "Pm8q3npJ4rtX",
        "outputId": "56103b00-66bd-4b78-c0f0-46c5248b95ca"
      },
      "execution_count": null,
      "outputs": [
        {
          "output_type": "stream",
          "name": "stdout",
          "text": [
            "The sun shines brightly,\n",
            "In Toronto, a warm day,\n",
            "Enjoy the weather.\n",
            "\n"
          ]
        }
      ]
    }
  ]
}