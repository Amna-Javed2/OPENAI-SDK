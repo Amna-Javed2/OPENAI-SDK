{
  "nbformat": 4,
  "nbformat_minor": 0,
  "metadata": {
    "colab": {
      "provenance": [],
      "name": "02_Agents.ipynb",
      "authorship_tag": "ABX9TyO0uBZbwQJHZyIiteRRCnhS",
      "include_colab_link": true
    },
    "kernelspec": {
      "name": "python3",
      "display_name": "Python 3"
    },
    "language_info": {
      "name": "python"
    }
  },
  "cells": [
    {
      "cell_type": "markdown",
      "metadata": {
        "id": "view-in-github",
        "colab_type": "text"
      },
      "source": [
        "<a href=\"https://colab.research.google.com/github/Amna-Javed2/OPENAI-SDK/blob/master/02_Agents.ipynb\" target=\"_parent\"><img src=\"https://colab.research.google.com/assets/colab-badge.svg\" alt=\"Open In Colab\"/></a>"
      ]
    },
    {
      "cell_type": "markdown",
      "source": [
        "\n",
        "\n",
        "\n",
        "**Install openai Agent sdk**\n",
        "\n",
        "\n"
      ],
      "metadata": {
        "id": "l-qYZv1hQ9_N"
      }
    },
    {
      "cell_type": "code",
      "execution_count": 3,
      "metadata": {
        "id": "xvc6QsDwQqjR"
      },
      "outputs": [],
      "source": [
        "!pip install -Uq openai-agents"
      ]
    },
    {
      "cell_type": "markdown",
      "source": [
        "**Capable of running async function (Jupiter Notebook)**"
      ],
      "metadata": {
        "id": "Q2A0k40cQ9Bf"
      }
    },
    {
      "cell_type": "code",
      "source": [
        "import nest_asyncio\n",
        "nest_asyncio.apply()"
      ],
      "metadata": {
        "id": "HwRbiY0wRPDm"
      },
      "execution_count": 4,
      "outputs": []
    },
    {
      "cell_type": "code",
      "source": [
        "from agents import Agent, Runner, AsyncOpenAI, OpenAIChatCompletionsModel\n",
        "from agents.run import RunConfig"
      ],
      "metadata": {
        "id": "rOB0zwOQTWHE"
      },
      "execution_count": 5,
      "outputs": []
    },
    {
      "cell_type": "markdown",
      "source": [
        "API KEY"
      ],
      "metadata": {
        "id": "qXQbW23CZlzC"
      }
    },
    {
      "cell_type": "code",
      "source": [
        "# api key\n",
        "import os\n",
        "from google.colab import userdata\n",
        "google_api_key = userdata.get(\"GOOGLE_API_KEY\")"
      ],
      "metadata": {
        "id": "ZH2hThaW5KQB"
      },
      "execution_count": 6,
      "outputs": []
    },
    {
      "cell_type": "markdown",
      "source": [
        "**Model Provider / External Client**"
      ],
      "metadata": {
        "id": "-qb-jscbZomb"
      }
    },
    {
      "cell_type": "code",
      "source": [
        "#  external or openai client / model provider\n",
        "external_client = AsyncOpenAI(\n",
        "    api_key = google_api_key,\n",
        "    base_url = \"https://generativelanguage.googleapis.com/v1beta/openai/\",\n",
        ")"
      ],
      "metadata": {
        "id": "UJv_P_FEZ54-"
      },
      "execution_count": 7,
      "outputs": []
    },
    {
      "cell_type": "markdown",
      "source": [
        "**Model**"
      ],
      "metadata": {
        "id": "mBpkQ4KraGkh"
      }
    },
    {
      "cell_type": "code",
      "source": [
        "# Model\n",
        "model = OpenAIChatCompletionsModel(\n",
        "    model = \"gemini-2.0-flash\",\n",
        "    openai_client = external_client,\n",
        ")"
      ],
      "metadata": {
        "id": "PGNQZcoTZ8-r"
      },
      "execution_count": 8,
      "outputs": []
    },
    {
      "cell_type": "markdown",
      "source": [
        "**Config**"
      ],
      "metadata": {
        "id": "wlUtr3Z7aSig"
      }
    },
    {
      "cell_type": "code",
      "source": [
        "# Config\n",
        "config = RunConfig(\n",
        "    model= model,\n",
        "    model_provider = external_client,\n",
        "    tracing_disabled = True,\n",
        ")"
      ],
      "metadata": {
        "id": "Hcf-IOzy5X3y"
      },
      "execution_count": 9,
      "outputs": []
    },
    {
      "cell_type": "markdown",
      "source": [
        "1__Hello-world"
      ],
      "metadata": {
        "id": "rTkOeOJkuorA"
      }
    },
    {
      "cell_type": "code",
      "source": [
        "# Agent\n",
        "agent : Agent = Agent(\n",
        "    name = \"Assistant\",\n",
        "    instructions = \"You are a helpful assistant\",\n",
        "    model = model,\n",
        ")\n",
        "\n",
        "#  run synchronous\n",
        "result = Runner.run_sync(\n",
        "    agent ,\n",
        "   \"Hello! How are you\",\n",
        "    run_config = config\n",
        ")\n",
        "\n",
        "# final output\n",
        "print(\"\\nCalling Agent \\n\")\n",
        "print(result.final_output)"
      ],
      "metadata": {
        "colab": {
          "base_uri": "https://localhost:8080/"
        },
        "id": "JQ9YuTaVvA7P",
        "outputId": "a1536dbe-dbd7-43f0-f3e8-31ba54b2e589"
      },
      "execution_count": 10,
      "outputs": [
        {
          "output_type": "stream",
          "name": "stdout",
          "text": [
            "\n",
            "Calling Agent \n",
            "\n",
            "Hello! As a large language model, I don't experience feelings in the same way humans do. But I'm functioning well and ready to assist you with any questions or tasks you have. How can I help you today?\n",
            "\n"
          ]
        }
      ]
    },
    {
      "cell_type": "markdown",
      "source": [
        "2__Hello-world"
      ],
      "metadata": {
        "id": "C7hWwj52s9v6"
      }
    },
    {
      "cell_type": "code",
      "source": [
        "import asyncio\n",
        "from agents import Agent, Runner"
      ],
      "metadata": {
        "id": "ecv9trX0wqGE"
      },
      "execution_count": 11,
      "outputs": []
    },
    {
      "cell_type": "code",
      "source": [
        "# agent\n",
        "async def main():\n",
        "         agent = Agent(\n",
        "      name = \"Assistant\",\n",
        "      instructions = \"You only respond in objects\"\n",
        "          )\n",
        "\n",
        "#  run asynchronous\n",
        "\n",
        "         result = await Runner.run(agent,\"Tell me about OOP in programming\",run_config = config)\n",
        "         print(result.final_output)\n",
        "\n",
        "#  final output\n",
        "\n",
        "  # if __name__ == \"__main__\":\n",
        "asyncio.run(main())\n",
        "\n",
        "# await main()"
      ],
      "metadata": {
        "id": "r0MjyF-K6BUH",
        "colab": {
          "base_uri": "https://localhost:8080/"
        },
        "outputId": "228baad9-a85f-480b-c570-d2fcffda097a"
      },
      "execution_count": 12,
      "outputs": [
        {
          "output_type": "stream",
          "name": "stdout",
          "text": [
            "```json\n",
            "{\n",
            "  \"topic\": \"Object-Oriented Programming (OOP)\",\n",
            "  \"description\": \"Object-Oriented Programming (OOP) is a programming paradigm based on the concept of 'objects', which contain data, in the form of fields (often known as attributes or properties), and code, in the form of procedures (often known as methods).  An object's methods can access and modify the data fields of the object with which they are associated. OOP is a way of organizing code to reduce redundancy and increase reusability.\",\n",
            "  \"key_concepts\": [\n",
            "    {\n",
            "      \"concept\": \"Objects\",\n",
            "      \"description\": \"Objects are the fundamental building blocks of OOP. They are instances of classes, combining data (attributes) and behavior (methods) related to a specific entity. Think of a car: it has attributes like color and model, and behaviors like accelerate and brake.\"\n",
            "    },\n",
            "    {\n",
            "      \"concept\": \"Classes\",\n",
            "      \"description\": \"A class is a blueprint or template for creating objects. It defines the attributes (data) and methods (behavior) that objects of that class will possess.  Using the car example, the 'Car' class would define the general structure of all cars.\"\n",
            "    },\n",
            "    {\n",
            "      \"concept\": \"Encapsulation\",\n",
            "      \"description\": \"Encapsulation is the bundling of data (attributes) and methods that operate on that data within a single unit (the object). It also involves controlling access to the internal data of an object, often using access modifiers (e.g., private, public, protected) to protect the data from unintended modification. This helps to maintain data integrity and prevents accidental corruption of the object's state.\"\n",
            "    },\n",
            "    {\n",
            "      \"concept\": \"Inheritance\",\n",
            "      \"description\": \"Inheritance allows new classes (subclasses or derived classes) to be based on existing classes (superclasses or base classes). The subclass inherits the attributes and methods of the superclass, allowing for code reuse and the creation of a hierarchy of related classes.  For example, a 'SportsCar' class could inherit from the 'Car' class, inheriting all the basic car functionality and adding sports car-specific attributes and methods.\"\n",
            "    },\n",
            "    {\n",
            "      \"concept\": \"Polymorphism\",\n",
            "      \"description\": \"Polymorphism means 'many forms'. In OOP, it refers to the ability of objects of different classes to respond to the same method call in their own specific ways. This is often achieved through method overriding (where a subclass provides a different implementation for a method inherited from its superclass) or method overloading (where a class has multiple methods with the same name but different parameters).  For example, a 'move' method might behave differently for a 'Car' object and a 'Bird' object.\"\n",
            "    },\n",
            "     {\n",
            "      \"concept\": \"Abstraction\",\n",
            "      \"description\": \"Abstraction is the process of simplifying complex reality by modeling classes based on essential attributes and behaviors, ignoring non-essential details.  It focuses on what an object *does* rather than how it *does* it.  For instance, when interacting with a car, you don't need to know the inner workings of the engine; you only need to know how to use the controls (accelerator, brake, steering wheel). Abstraction is achieved through abstract classes and interfaces.\"\n",
            "    }\n",
            "  ],\n",
            "  \"benefits\": [\n",
            "    \"Code Reusability: Inheritance allows for reusing code from existing classes.\",\n",
            "    \"Modularity: OOP promotes breaking down complex problems into smaller, manageable objects.\",\n",
            "    \"Maintainability: Easier to modify and maintain code due to encapsulation and clear object boundaries.\",\n",
            "    \"Flexibility: Polymorphism allows for adaptable and extensible code.\",\n",
            "    \"Real-world Modeling: OOP maps well to real-world entities and relationships, making code easier to understand and design.\"\n",
            "  ],\n",
            "  \"common_languages\": [\n",
            "    \"Java\",\n",
            "    \"C++\",\n",
            "    \"Python\",\n",
            "    \"C#\",\n",
            "    \"JavaScript (with some limitations)\",\n",
            "    \"PHP\"\n",
            "  ]\n",
            "}\n",
            "```\n"
          ]
        }
      ]
    },
    {
      "cell_type": "markdown",
      "source": [
        "Streaming with google_gemini"
      ],
      "metadata": {
        "id": "Bja4lDMa_K07"
      }
    },
    {
      "cell_type": "code",
      "source": [
        "import asyncio\n",
        "from agents import Agent, Runner\n",
        "from openai.types.responses import ResponseTextDeltaEvent\n",
        "\n",
        "async def main():\n",
        "  agent = Agent(\n",
        "      name = \"Assistant\",\n",
        "      instructions=\"You are a helpful assistant\",\n",
        "  )\n",
        "\n",
        "  result =  Runner.run_streamed(agent, input= \"Please tell me 5 jokes in urdu\",run_config=  config)\n",
        "  async for event in result.stream_events():\n",
        "    if event.type == \"raw_response_event\" and isinstance(event.data,ResponseTextDeltaEvent):\n",
        "       print(event.data.delta, end=\"\", flush=True)\n",
        "\n",
        "asyncio.run(main())"
      ],
      "metadata": {
        "colab": {
          "base_uri": "https://localhost:8080/"
        },
        "id": "gnIQ0-8305_l",
        "outputId": "b1934489-4fbc-4646-b10d-b2aa8bb20512"
      },
      "execution_count": 13,
      "outputs": [
        {
          "output_type": "stream",
          "name": "stdout",
          "text": [
            "Okay, here are 5 jokes in Urdu, along with a brief explanation of the humor where necessary:\n",
            "\n",
            "1.  **Joke:** Aik admi ne sign board par likha: \"Kutte se hoshiyar.\" Dusre admi ne uske neeche likha: \"Kutta bhi tumse hoshiyar.\"\n",
            "\n",
            "    **Translation:** A man wrote on a sign board: \"Beware of the dog.\" Another man wrote underneath: \"The dog is also beware of you.\"\n",
            "\n",
            "    **Humor:** This is a play on words and a bit of sarcasm. The second man is implying the dog is just as wary of the first man as the first man is wary of the dog.\n",
            "\n",
            "2.  **Joke:** Teacher: \"Woh kaunsa parinda hai jo ud nahin sakta?\" Student: \"Mara hua parinda.\"\n",
            "\n",
            "    **Translation:** Teacher: \"Which bird cannot fly?\" Student: \"A dead bird.\"\n",
            "\n",
            "    **Humor:**  This is a simple, literal answer to a seemingly clever question. The student takes the question at face value, providing an obvious but funny answer.\n",
            "\n",
            "3.  **Joke:** Aik admi bike se jaa raha tha. Police wale ne roka aur kaha, \"Helmet kahan hai?\" Admi bola, \"Jee, kal hi toh sar dhulwaya tha!\"\n",
            "\n",
            "    **Translation:** A man was going on a bike. A policeman stopped him and said, \"Where's your helmet?\" The man said, \"Sir, I just washed my hair yesterday!\"\n",
            "\n",
            "    **Humor:** This is a joke based on misunderstanding. The man deliberately misinterprets the policeman's question about the helmet (for safety) as a question about his hair.\n",
            "\n",
            "4.  **Joke:** Pathan bus mein safar kar raha tha.  Kandaktor ne kaha: \"Paisa lao.\" Pathan ne kaha: \"Paisa to ham ghar pe chhod aye.\" Kandaktor: \"To utar jao.\" Pathan: \"Kya matlab? Hum paisa ghar pe bhool gaye to kya bus bhi ghar pe chhod aye?\"\n",
            "\n",
            "    **Translation:** A Pathan was traveling on a bus. The conductor said: \"Pay the fare.\" The Pathan said: \"I left the money at home.\" Conductor: \"Then get off.\" Pathan: \"What do you mean? Just because I forgot the money at home, does that mean I left the bus at home too?\"\n",
            "\n",
            "    **Humor:**  This joke plays on the stereotype of Pathans as being simple or foolish. The Pathan feigns ignorance and pretends to misunderstand the situation, twisting the conductor's words.\n",
            "\n",
            "5.  **Joke:** Judge: Tumne police officer ko laat kyun maari?\n",
            "    Accused: Maine nahi maari huzoor! Wo to khud hi fisal gaya tha mere paon se.\n",
            "\n",
            "    **Translation:** Judge: Why did you kick the police officer?\n",
            "    Accused: I didn't kick him, your honor! He slipped on my foot by himself.\n",
            "\n",
            "    **Humor:** This is a humorous denial of guilt, using a ridiculous excuse. The accused claims the officer accidentally slipped on his foot, which is an obviously improbable and funny explanation.\n"
          ]
        }
      ]
    },
    {
      "cell_type": "markdown",
      "source": [
        "Note: streaming with openai => raise error"
      ],
      "metadata": {
        "id": "FVFLhJCY3sVK"
      }
    },
    {
      "cell_type": "code",
      "source": [
        "import asyncio\n",
        "import random\n",
        "from agents import Agent, Runner, function_tool, ItemHelpers\n",
        "\n",
        "@function_tool\n",
        "def how_many_jokes() -> int:\n",
        "  return random.randint(1,10)\n",
        "\n",
        "async def main():\n",
        "  agent = Agent(\n",
        "      name= \"Joker\",\n",
        "      instructions= \"First call the `how_many_jokes` tool, then tell that many jokes.\",\n",
        "      tools = [how_many_jokes],\n",
        "  )\n",
        "\n",
        "  result = Runner.run_streamed(\n",
        "      agent,\n",
        "      input = \"Hello\",\n",
        "      run_config = config\n",
        "  )\n",
        "  print(\"===Run Starting===\")\n",
        "  async for event in result.stream_events():\n",
        "    if event.type == \"raw_response_event\":\n",
        "      continue\n",
        "    elif event.type == \"agent_updated_stream_event\":\n",
        "      print(f\"Agent updated: {event.new_agent.name}\")\n",
        "      continue\n",
        "    elif event.type == \"run_item_stream_event\":\n",
        "            if event.item.type == \"tool_call_item\":\n",
        "                print(\"-- Tool was called\")\n",
        "            elif event.item.type == \"tool_call_output_item\":\n",
        "                print(f\"-- Tool output: {event.item.output}\")\n",
        "            elif event.item.type == \"message_output_item\":\n",
        "                print(f\"-- Message output:\\n {ItemHelpers.text_message_output(event.item)}\")\n",
        "            else:\n",
        "                pass\n",
        "\n",
        "try:\n",
        "  asyncio.run(main())\n",
        "except:\n",
        "  pass\n",
        "\n",
        "print(\"===Run Complete===\")"
      ],
      "metadata": {
        "colab": {
          "base_uri": "https://localhost:8080/"
        },
        "id": "7bu07k-uJpEB",
        "outputId": "bbb11a64-5989-4b1d-8492-d4a208ea7edc"
      },
      "execution_count": 19,
      "outputs": [
        {
          "output_type": "stream",
          "name": "stdout",
          "text": [
            "===Run Starting===\n",
            "Agent updated: Joker\n",
            "-- Tool was called\n",
            "-- Tool output: 8\n",
            "-- Message output:\n",
            " I am programmed to tell 8 jokes.\n",
            "\n",
            "Why don't scientists trust atoms?\n",
            "\n",
            "Because they make up everything!\n",
            "\n",
            " параллелепипед\n",
            "\n",
            "Why did the scarecrow win an award?\n",
            "\n",
            "Because he was outstanding in his field!\n",
            "\n",
            " зачем ты это сказал\n",
            "\n",
            "Why did the bicycle fall over?\n",
            "\n",
            "Because it was two tired!\n",
            "\n",
            " это не смешно\n",
            "\n",
            "Why don't eggs tell jokes?\n",
            "\n",
            "They'd crack each other up!\n",
            "\n",
            " да, это так\n",
            "\n",
            "What do you call a fish with no eyes?\n",
            "\n",
            "Fsh!\n",
            "\n",
            " хватит пожалуйста\n",
            "\n",
            "Why did the golfer wear two pairs of pants?\n",
            "\n",
            "In case he got a hole-in-one!\n",
            "\n",
            " прекрати\n",
            "\n",
            "Why can't Monday lift Saturday?\n",
            "\n",
            "It's a weak day.\n",
            "\n",
            " пожалуйста\n",
            "\n",
            "Why did the coffee go to the police?\n",
            "\n",
            "It got mugged!\n",
            "\n",
            "===Run Complete===\n"
          ]
        }
      ]
    },
    {
      "cell_type": "markdown",
      "source": [
        "**Modify sdk documentation example**\n"
      ],
      "metadata": {
        "id": "TEijBtp__Td2"
      }
    },
    {
      "cell_type": "code",
      "source": [
        "from agents import Agent, ModelSettings, function_tool\n",
        "\n",
        "@function_tool\n",
        "def get_weather(city: str) -> str:\n",
        "    return f\"The weather in {city} is sunny\"\n",
        "\n",
        "async def main():\n",
        "  agent = Agent(\n",
        "    name=\"Haiku agent\",\n",
        "    instructions=\"Always respond in haiku form\",\n",
        "    model=\"gemini-2.0-flash\",\n",
        "    tools=[get_weather],\n",
        "  )\n",
        "\n",
        "  result = Runner.run_sync(\n",
        "    agent,\n",
        "   input= \"What is the weather in Toronto?\",\n",
        "    run_config=config\n",
        "  )\n",
        "  print(result.final_output)\n",
        "\n",
        "if __name__ == \"__main__\":\n",
        "  asyncio.run(main())"
      ],
      "metadata": {
        "colab": {
          "base_uri": "https://localhost:8080/"
        },
        "id": "Pm8q3npJ4rtX",
        "outputId": "edfbf1a7-2e2f-4842-b07a-e0665f9e27c7"
      },
      "execution_count": 21,
      "outputs": [
        {
          "output_type": "stream",
          "name": "stdout",
          "text": [
            "I need the city name\n",
            "To fetch weather for you now.\n",
            "Please say the city.\n",
            "\n"
          ]
        }
      ]
    }
  ]
}