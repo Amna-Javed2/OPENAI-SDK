{
  "nbformat": 4,
  "nbformat_minor": 0,
  "metadata": {
    "colab": {
      "provenance": [],
      "authorship_tag": "ABX9TyMpYpaZEHrA0ZPDJb/ovLA6",
      "include_colab_link": true
    },
    "kernelspec": {
      "name": "python3",
      "display_name": "Python 3"
    },
    "language_info": {
      "name": "python"
    }
  },
  "cells": [
    {
      "cell_type": "markdown",
      "metadata": {
        "id": "view-in-github",
        "colab_type": "text"
      },
      "source": [
        "<a href=\"https://colab.research.google.com/github/Amna-Javed2/OPENAI-SDK/blob/master/Untitled6.ipynb\" target=\"_parent\"><img src=\"https://colab.research.google.com/assets/colab-badge.svg\" alt=\"Open In Colab\"/></a>"
      ]
    },
    {
      "cell_type": "markdown",
      "source": [
        "\n",
        "\n",
        "\n",
        "**Install openai Agent sdk**\n",
        "\n",
        "\n"
      ],
      "metadata": {
        "id": "l-qYZv1hQ9_N"
      }
    },
    {
      "cell_type": "code",
      "execution_count": null,
      "metadata": {
        "id": "xvc6QsDwQqjR",
        "colab": {
          "base_uri": "https://localhost:8080/"
        },
        "outputId": "69b3304d-5930-4cf3-fb32-77fb2ebf65f5"
      },
      "outputs": [
        {
          "output_type": "stream",
          "name": "stdout",
          "text": [
            "\u001b[?25l   \u001b[90m━━━━━━━━━━━━━━━━━━━━━━━━━━━━━━━━━━━━━━━━\u001b[0m \u001b[32m0.0/117.2 kB\u001b[0m \u001b[31m?\u001b[0m eta \u001b[36m-:--:--\u001b[0m\r\u001b[2K   \u001b[90m━━━━━━━━━━━━━━━━━━━━━━━━━━━━━━━━━━━━━━━━\u001b[0m \u001b[32m117.2/117.2 kB\u001b[0m \u001b[31m4.6 MB/s\u001b[0m eta \u001b[36m0:00:00\u001b[0m\n",
            "\u001b[?25h\u001b[?25l   \u001b[90m━━━━━━━━━━━━━━━━━━━━━━━━━━━━━━━━━━━━━━━━\u001b[0m \u001b[32m0.0/129.3 kB\u001b[0m \u001b[31m?\u001b[0m eta \u001b[36m-:--:--\u001b[0m\r\u001b[2K   \u001b[90m━━━━━━━━━━━━━━━━━━━━━━━━━━━━━━━━━━━━━━━━\u001b[0m \u001b[32m129.3/129.3 kB\u001b[0m \u001b[31m5.8 MB/s\u001b[0m eta \u001b[36m0:00:00\u001b[0m\n",
            "\u001b[2K   \u001b[90m━━━━━━━━━━━━━━━━━━━━━━━━━━━━━━━━━━━━━━━━\u001b[0m \u001b[32m125.1/125.1 kB\u001b[0m \u001b[31m6.8 MB/s\u001b[0m eta \u001b[36m0:00:00\u001b[0m\n",
            "\u001b[2K   \u001b[90m━━━━━━━━━━━━━━━━━━━━━━━━━━━━━━━━━━━━━━━━\u001b[0m \u001b[32m44.4/44.4 kB\u001b[0m \u001b[31m2.3 MB/s\u001b[0m eta \u001b[36m0:00:00\u001b[0m\n",
            "\u001b[2K   \u001b[90m━━━━━━━━━━━━━━━━━━━━━━━━━━━━━━━━━━━━━━━━\u001b[0m \u001b[32m72.0/72.0 kB\u001b[0m \u001b[31m4.6 MB/s\u001b[0m eta \u001b[36m0:00:00\u001b[0m\n",
            "\u001b[2K   \u001b[90m━━━━━━━━━━━━━━━━━━━━━━━━━━━━━━━━━━━━━━━━\u001b[0m \u001b[32m62.5/62.5 kB\u001b[0m \u001b[31m4.2 MB/s\u001b[0m eta \u001b[36m0:00:00\u001b[0m\n",
            "\u001b[?25h"
          ]
        }
      ],
      "source": [
        "!pip install -Uq openai-agents"
      ]
    },
    {
      "cell_type": "markdown",
      "source": [
        "**Capable of running async function (Jupiter Notebook)**"
      ],
      "metadata": {
        "id": "Q2A0k40cQ9Bf"
      }
    },
    {
      "cell_type": "code",
      "source": [
        "import nest_asyncio\n",
        "nest_asyncio.apply()"
      ],
      "metadata": {
        "id": "HwRbiY0wRPDm"
      },
      "execution_count": null,
      "outputs": []
    },
    {
      "cell_type": "code",
      "source": [
        "from agents import Agent, Runner, AsyncOpenAI, OpenAIChatCompletionsModel\n",
        "from agents.run import RunConfig"
      ],
      "metadata": {
        "id": "rOB0zwOQTWHE"
      },
      "execution_count": null,
      "outputs": []
    },
    {
      "cell_type": "markdown",
      "source": [
        "API KEY"
      ],
      "metadata": {
        "id": "qXQbW23CZlzC"
      }
    },
    {
      "cell_type": "code",
      "source": [
        "# api key\n",
        "import os\n",
        "from google.colab import userdata\n",
        "google_api_key = userdata.get(\"GOOGLE_API_KEY\")"
      ],
      "metadata": {
        "id": "ZH2hThaW5KQB"
      },
      "execution_count": null,
      "outputs": []
    },
    {
      "cell_type": "markdown",
      "source": [
        "**Model Provider / External Client**"
      ],
      "metadata": {
        "id": "-qb-jscbZomb"
      }
    },
    {
      "cell_type": "code",
      "source": [
        "#  external or openai client / model provider\n",
        "external_client = AsyncOpenAI(\n",
        "    api_key = google_api_key,\n",
        "    base_url = \"https://generativelanguage.googleapis.com/v1beta/openai/\",\n",
        ")"
      ],
      "metadata": {
        "id": "UJv_P_FEZ54-"
      },
      "execution_count": null,
      "outputs": []
    },
    {
      "cell_type": "markdown",
      "source": [
        "**Model**"
      ],
      "metadata": {
        "id": "mBpkQ4KraGkh"
      }
    },
    {
      "cell_type": "code",
      "source": [
        "# Model\n",
        "model = OpenAIChatCompletionsModel(\n",
        "    model = \"gemini-2.0-flash\",\n",
        "    openai_client = external_client,\n",
        ")"
      ],
      "metadata": {
        "id": "PGNQZcoTZ8-r"
      },
      "execution_count": null,
      "outputs": []
    },
    {
      "cell_type": "markdown",
      "source": [
        "**Config**"
      ],
      "metadata": {
        "id": "wlUtr3Z7aSig"
      }
    },
    {
      "cell_type": "code",
      "source": [
        "# Config\n",
        "config = RunConfig(\n",
        "    model= model,\n",
        "    model_provider = external_client,\n",
        "    tracing_disabled = True,\n",
        ")"
      ],
      "metadata": {
        "id": "Hcf-IOzy5X3y"
      },
      "execution_count": null,
      "outputs": []
    },
    {
      "cell_type": "markdown",
      "source": [
        "1__Hello-world"
      ],
      "metadata": {
        "id": "rTkOeOJkuorA"
      }
    },
    {
      "cell_type": "code",
      "source": [
        "# Agent\n",
        "agent : Agent = Agent(\n",
        "    name = \"Assistant\",\n",
        "    instructions = \"You are a helpful assistant\",\n",
        "    model = model,\n",
        ")\n",
        "\n",
        "#  run synchronous\n",
        "result = Runner.run_sync(\n",
        "    agent ,\n",
        "   \"Hello! How are you\",\n",
        "    run_config = config\n",
        ")\n",
        "\n",
        "# final output\n",
        "print(\"\\nCalling Agent \\n\")\n",
        "print(result.final_output)"
      ],
      "metadata": {
        "colab": {
          "base_uri": "https://localhost:8080/"
        },
        "id": "JQ9YuTaVvA7P",
        "outputId": "6f23b748-2d29-4645-ed67-babd81f2bc2c"
      },
      "execution_count": null,
      "outputs": [
        {
          "output_type": "stream",
          "name": "stderr",
          "text": [
            "/usr/local/lib/python3.11/dist-packages/pydantic/_internal/_typing_extra.py:315: RuntimeWarning: coroutine 'main' was never awaited\n",
            "  with ns_resolver.push(base):\n",
            "RuntimeWarning: Enable tracemalloc to get the object allocation traceback\n"
          ]
        },
        {
          "output_type": "stream",
          "name": "stdout",
          "text": [
            "\n",
            "Calling Agent \n",
            "\n",
            "Hello! I am doing well, thank you for asking. How are you today?\n",
            "\n"
          ]
        }
      ]
    },
    {
      "cell_type": "markdown",
      "source": [
        "2__Hello-world"
      ],
      "metadata": {
        "id": "C7hWwj52s9v6"
      }
    },
    {
      "cell_type": "code",
      "source": [
        "import asyncio\n",
        "from agents import Agent, Runner"
      ],
      "metadata": {
        "id": "ecv9trX0wqGE"
      },
      "execution_count": null,
      "outputs": []
    },
    {
      "cell_type": "code",
      "source": [
        "# agent\n",
        "async def main():\n",
        "         agent = Agent(\n",
        "      name = \"Assistant\",\n",
        "      instructions = \"You only respond in objects\"\n",
        "          )\n",
        "\n",
        "#  run asynchronous\n",
        "\n",
        "         result = await Runner.run(agent,\"Tell me about OOP in programming\",run_config = config)\n",
        "         print(result.final_output)\n",
        "\n",
        "#  final output\n",
        "\n",
        "  # if __name__ == \"__main__\":\n",
        "asyncio.run(main())\n",
        "\n",
        "# await main()"
      ],
      "metadata": {
        "id": "r0MjyF-K6BUH",
        "colab": {
          "base_uri": "https://localhost:8080/"
        },
        "outputId": "6132aab6-268f-4daa-c547-6fdcb8398557"
      },
      "execution_count": null,
      "outputs": [
        {
          "output_type": "stream",
          "name": "stdout",
          "text": [
            "```json\n",
            "{\n",
            "  \"topic\": \"Object-Oriented Programming (OOP)\",\n",
            "  \"description\": \"Object-Oriented Programming (OOP) is a programming paradigm based on the concept of 'objects', which contain data, in the form of fields (often known as attributes or properties), and code, in the form of procedures (often known as methods). A key feature of objects is that an object's procedures can access and often modify the data fields of the object with which they are associated (objects have a notion of 'this' or 'self'). Thus, OOP views a program as a collection of interacting objects.\",\n",
            "  \"core_concepts\": [\n",
            "    {\n",
            "      \"concept\": \"Objects\",\n",
            "      \"description\": \"Objects are the fundamental building blocks of OOP. They are self-contained entities that encapsulate data (attributes) and behavior (methods).  Think of an object as a thing that has properties and can do things.\",\n",
            "      \"example\": \"A 'Car' object might have attributes like 'color', 'make', 'model', and methods like 'accelerate()', 'brake()', 'turn()'.\"\n",
            "    },\n",
            "    {\n",
            "      \"concept\": \"Classes\",\n",
            "      \"description\": \"A class is a blueprint or template for creating objects. It defines the attributes and methods that objects of that class will possess.  It's like a cookie cutter for creating cookies (objects).\",\n",
            "      \"example\": \"The 'Car' class defines what a Car object should look like and what it should be able to do.  Many 'Car' objects can be created from the 'Car' class.\"\n",
            "    },\n",
            "    {\n",
            "      \"concept\": \"Encapsulation\",\n",
            "      \"description\": \"Encapsulation is the bundling of data and methods that operate on that data within a single unit (i.e., a class). It also involves restricting direct access to some of the object's components (data hiding), usually with 'private' or 'protected' access modifiers. This protects the data from being accidentally modified and ensures data integrity.\",\n",
            "      \"example\": \"The 'Car' object's 'engine' attribute might be private, meaning it can only be accessed and modified by the 'Car' object's own methods, not directly from outside the object.\"\n",
            "    },\n",
            "    {\n",
            "      \"concept\": \"Inheritance\",\n",
            "      \"description\": \"Inheritance allows a class (subclass or derived class) to inherit properties and methods from another class (superclass or base class). This promotes code reuse and reduces redundancy. It establishes an 'is-a' relationship between classes.\",\n",
            "      \"example\": \"A 'SportsCar' class can inherit from the 'Car' class. It automatically gets all the attributes and methods of the 'Car' class (like 'color', 'make', 'model', 'accelerate()', 'brake()'), and can add its own unique attributes and methods (like 'spoiler', 'turboBoost()'). A 'SportsCar' is a 'Car'.\"\n",
            "    },\n",
            "    {\n",
            "      \"concept\": \"Polymorphism\",\n",
            "      \"description\": \"Polymorphism means 'many forms'. It allows objects of different classes to be treated as objects of a common type (e.g., a base class). This enables writing code that can work with objects of different types without needing to know their specific class.  Two common types are method overloading (same method name, different parameters) and method overriding (subclass provides a specific implementation of a method already defined in its superclass).\",\n",
            "      \"example\": \"If we have a 'Vehicle' class and 'Car' and 'Truck' classes that inherit from it, we can have a 'displayInfo()' method in each class. When we call 'displayInfo()' on a 'Car' object, it will display car-specific information; when we call it on a 'Truck' object, it will display truck-specific information.  Even though the method name is the same, the behavior is different based on the object type.\"\n",
            "    },\n",
            "        {\n",
            "      \"concept\": \"Abstraction\",\n",
            "      \"description\": \"Abstraction involves hiding complex implementation details and exposing only essential information to the user. It simplifies the interaction with objects by providing a high-level view and hiding unnecessary complexities.\",\n",
            "      \"example\": \"When driving a car, you don't need to know how the engine works internally; you only need to know how to use the steering wheel, accelerator, and brakes.  The complex workings of the engine are abstracted away.\"\n",
            "    }\n",
            "  ],\n",
            "  \"advantages\": [\n",
            "    \"Modularity: OOP promotes breaking down complex problems into smaller, manageable objects.\",\n",
            "    \"Code Reusability: Inheritance allows reusing existing code, reducing development time and effort.\",\n",
            "    \"Maintainability: Encapsulation and abstraction make code easier to understand, modify, and debug.\",\n",
            "    \"Flexibility: Polymorphism allows for more flexible and adaptable code.\",\n",
            "    \"Real-World Modeling: OOP allows modeling real-world entities and their interactions more naturally.\"\n",
            "  ],\n",
            "  \"disadvantages\": [\n",
            "    \"Complexity: OOP can be more complex to learn and implement compared to simpler programming paradigms.\",\n",
            "    \"Overhead: OOP can introduce some performance overhead due to the dynamic nature of object creation and method calls.\",\n",
            "    \"Potential for tight coupling:  If not carefully designed, OOP systems can become tightly coupled, making them harder to change.\"\n",
            "  ],\n",
            "  \"popular_languages\": [\n",
            "    \"Java\",\n",
            "    \"C++\",\n",
            "    \"Python\",\n",
            "    \"C#\",\n",
            "    \"JavaScript (with modern features)\",\n",
            "    \"Ruby\",\n",
            "    \"PHP\"\n",
            "  ]\n",
            "}\n",
            "```\n"
          ]
        }
      ]
    }
  ]
}
